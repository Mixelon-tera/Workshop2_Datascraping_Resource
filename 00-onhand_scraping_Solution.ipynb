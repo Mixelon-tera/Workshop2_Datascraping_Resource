{
 "cells": [
  {
   "cell_type": "markdown",
   "metadata": {},
   "source": [
    "# Workshop 2.1 : On hand web parsing\n",
    "Crawl data from https://www.chula.ac.th/en/academics/faculties-and-schools/\n",
    "\n",
    "<img src =\"source/intro_scraping.png\">"
   ]
  },
  {
   "cell_type": "code",
   "execution_count": 1,
   "metadata": {},
   "outputs": [
    {
     "name": "stdout",
     "output_type": "stream",
     "text": [
      "C:\\Users\\Tera_Server\\Desktop\\Workshop2_DataScraping_Part1_Solution\n"
     ]
    }
   ],
   "source": [
    "import urllib.request as urq\n",
    "import os\n",
    "\n",
    "dir_path = os.path.dirname(os.path.realpath(\"__file__\"))\n",
    "print(dir_path)"
   ]
  },
  {
   "cell_type": "markdown",
   "metadata": {},
   "source": [
    "# TO DO 1 : Crawl \"Faculty Name\" [only 19 faculties] (1%)"
   ]
  },
  {
   "cell_type": "markdown",
   "metadata": {},
   "source": [
    "Print all Faculty name in Chulalongkorn University\n",
    "and rint Number of Faculties like below image\n",
    "\n",
    "<img src=\"source/fac_name.png\">\n",
    "\n",
    "<img src=\"source/number_faculty.png\">"
   ]
  },
  {
   "cell_type": "code",
   "execution_count": 2,
   "metadata": {},
   "outputs": [
    {
     "name": "stdout",
     "output_type": "stream",
     "text": [
      "Faculty of Allied Health Sciences\n",
      "Faculty of Architecture\n",
      "Faculty of Arts\n",
      "Faculty of Commerce and Accountancy\n",
      "Faculty of Communication Arts\n",
      "Faculty of Dentistry\n",
      "Faculty of Economics\n",
      "Faculty of Education\n",
      "Faculty of Engineering\n",
      "Faculty of Fine and Applied Arts\n",
      "Faculty of Law\n",
      "Faculty of Medicine\n",
      "Faculty of Nursing\n",
      "Faculty of Pharmaceutical Sciences\n",
      "Faculty of Political Science\n",
      "Faculty of Psychology\n",
      "Faculty of Science\n",
      "Faculty of Sports Science\n",
      "Faculty of Veterinary Science\n",
      "\n",
      " Number of Faculties : 19\n"
     ]
    }
   ],
   "source": [
    "# ---- TO DO 1 : Code Here ----\n",
    "\n",
    "url = 'https://www.chula.ac.th/en/academics/faculties-and-schools'\n",
    "\n",
    "html = str(urq.urlopen(url).read())\n",
    "\n",
    "### บางเว็บไซต์เราไม่สามารถใช้ urlopen ได้ตรงๆ เนื่องจากเว็บมีการป้องกันไว้ วิธีการแก้เบื้องต้นคือการใส่ header เพื่อหลอกเว็บไซต์ว่าเรากำลังใช้เว็บในการ request ข้อมูลเพจ ###\n",
    "\n",
    "c = 0\n",
    "pos = -1\n",
    "end = -1\n",
    "while True:\n",
    "    pos = str(html).find(\"<h3\", pos+1)\n",
    "    end = str(html).find(\"</h3>\", end+1)\n",
    "    fac_link = str(html)[pos:end]\n",
    "    if str(fac_link)[fac_link.find(\">F\")+1:fac_link.find(\"y \")+1]==\"Faculty\":\n",
    "        print(str(fac_link)[fac_link.find(\">F\")+1:fac_link.find(\"</a\")])\n",
    "        c+=1\n",
    "    if pos == -1:\n",
    "        print(\"\\n Number of Faculties :\" , c)\n",
    "        break"
   ]
  },
  {
   "cell_type": "markdown",
   "metadata": {},
   "source": [
    "# TO DO 2 : Crawl \"Faculty and Schools Image\" [21 faculties and schools] (1%)\n",
    "\n",
    "Print image's url and save image into folder 'faculty_image'\n",
    "\n",
    "#### Hint : save images into -> dir_path+\"/faculty_image\"+faculty_name\n",
    "\n",
    "<img src=\"source/save_fac_img.png\">\n",
    "\n",
    "<img src=\"source/fac_img_link.png\">"
   ]
  },
  {
   "cell_type": "code",
   "execution_count": 3,
   "metadata": {},
   "outputs": [
    {
     "name": "stdout",
     "output_type": "stream",
     "text": [
      "https://www.chula.ac.th/wp-content/uploads/2018/01/chula-faculty-allied-health-sciences-hero-desktop-1024x640.jpg\n",
      "https://www.chula.ac.th/wp-content/uploads/2017/12/architecture-hero-1440x900-1024x640.jpg\n",
      "https://www.chula.ac.th/wp-content/uploads/2018/01/chula-faculty-arts-hero-desktop-1024x640.jpg\n",
      "https://www.chula.ac.th/wp-content/uploads/2018/01/chula-faculty-commerce-and-accountancy-hero-desktop-1024x640.jpg\n",
      "https://www.chula.ac.th/wp-content/uploads/2018/01/chula-faculty-communication-arts-hero-desktop-1024x640.jpg\n",
      "https://www.chula.ac.th/wp-content/uploads/2018/01/chula-faculty-dentistry-hero-desktop-1024x640.jpg\n",
      "https://www.chula.ac.th/wp-content/uploads/2018/01/chula-faculty-economics-hero-desktop-1024x640.jpg\n",
      "https://www.chula.ac.th/wp-content/uploads/2017/11/chula-faculty-education-hero-desktop-1024x640.jpg\n",
      "https://www.chula.ac.th/wp-content/uploads/2018/01/chula-faculty-engineering-hero-desktop-1024x640.jpg\n",
      "https://www.chula.ac.th/wp-content/uploads/2017/12/faculty-of-fine-and-applied-arts-hero-desktop-1024x640.jpg\n",
      "https://www.chula.ac.th/wp-content/uploads/2018/01/chula-faculty-law-hero-desktop-1024x640.jpg\n",
      "https://www.chula.ac.th/wp-content/uploads/2018/01/chula-faculty-medicine-hero-desktop-1024x640.jpg\n",
      "https://www.chula.ac.th/wp-content/uploads/2018/01/chula-faculty-nursing-hero-desktop-1024x640.jpg\n",
      "https://www.chula.ac.th/wp-content/uploads/2018/01/chula-faculty-pharmaceutical-sciences-hero-desktop-01-1024x640.jpg\n",
      "https://www.chula.ac.th/wp-content/uploads/2018/01/chula-faculty-political-science-hero-desktop-1024x640.jpg\n",
      "https://www.chula.ac.th/wp-content/uploads/2018/01/chula-faculty-psychology-hero-desktop-1024x640.jpg\n",
      "https://www.chula.ac.th/wp-content/uploads/2017/12/chula-faculty-science-hero-desktop-2-1024x640.jpg\n",
      "https://www.chula.ac.th/wp-content/uploads/2018/01/chula-faculty-sports-science-hero-desktop-1024x640.jpg\n",
      "https://www.chula.ac.th/wp-content/uploads/2018/01/chula-faculty-veterinary-science-hero-desktop-1024x640.jpg\n",
      "https://www.chula.ac.th/wp-content/uploads/2018/01/chula-faculty-graduate-school-hero-desktop-1024x640.jpg\n",
      "https://www.chula.ac.th/wp-content/uploads/2017/12/school-of-agricultural-hero-desktop-1024x640.jpg\n"
     ]
    }
   ],
   "source": [
    "# ---- TO DO 2 : Code Here ----\n",
    "\n",
    "pos = -1\n",
    "while True:\n",
    "    pos = str(html).find(\"640px\\\" data-src=\", pos+1)\n",
    "    if pos == -1:\n",
    "        break\n",
    "    end = str(html).find(\"data-srcset\", pos)\n",
    "    img_url = str(html)[pos+17:end-2]\n",
    "    print(img_url)\n",
    "    if img_url.endswith(\".jpg\"):\n",
    "        img_data = urq.urlopen(img_url)\n",
    "        output = open(dir_path+\"/faculty_image/\"+img_url.split(\"/\")[-1],\"wb\")\n",
    "        output.write(img_data.read())\n",
    "        output.close()"
   ]
  },
  {
   "cell_type": "markdown",
   "metadata": {},
   "source": [
    "# TO DO 3 : Crawl \"Faculty Telephone Number\" [19 Faculties] (1%)\n",
    "\n",
    "Print Tel. of each faculty in Chulalongkorn University \n",
    "\n",
    "*** Only Faculty ***\n",
    "\n",
    "<img src=\"source/fac_tel.png\">"
   ]
  },
  {
   "cell_type": "code",
   "execution_count": 5,
   "metadata": {},
   "outputs": [
    {
     "name": "stdout",
     "output_type": "stream",
     "text": [
      "faculty-of-allied-health-sciences\n",
      "+66 2218 1100\n",
      "\n",
      "faculty-of-architecture\n",
      "+66 2218 4302\n",
      "\n",
      "faculty-of-arts\n",
      "+66 2218 4886, +66 2218 4924\n",
      "\n",
      "faculty-of-commerce-and-accountancy\n",
      "+66 2218 5759 - 60\n",
      "\n",
      "faculty-of-communication-arts\n",
      "+66 2218 2215 ext. 0\n",
      "\n",
      "faculty-of-dentistry\n",
      "+66 2218 8635\n",
      "\n",
      "faculty-of-economics\n",
      "+66 2559 3638\n",
      "\n",
      "faculty-of-education\n",
      "+66 2218 2565 ext. 6760\n",
      "\n",
      "faculty-of-engineering\n",
      "+66 2218 6337\n",
      "\n",
      "faculty-of-fine-and-applied-arts\n",
      "+66 2218 4568\n",
      "\n",
      "faculty-of-law\n",
      "0 2218 2017 ext. 204\n",
      "\n",
      "faculty-of-medicine\n",
      "+66 2256 4288, +66 2256 4000 ext. 3404\n",
      "\n",
      "faculty-of-nursing\n",
      "+66 2218 1131\n",
      "\n",
      "faculty-of-pharmaceutical-sciences\n",
      "+66 2218 8394\n",
      "\n",
      "faculty-of-political-science\n",
      "+66 2218 7250 - 3\n",
      "\n",
      "faculty-of-psychology\n",
      "+66 2218 1172\n",
      "\n",
      "faculty-of-science\n",
      "+66 2218 7653 - 4\n",
      "\n",
      "faculty-of-sports-science\n",
      "+66 2218 1025\n",
      "\n",
      "faculty-of-veterinary-science\n",
      "+66 2218 9771 - 3\n",
      "\n"
     ]
    }
   ],
   "source": [
    "# ---- TO DO 3 : Code Here ----\n",
    "\n",
    "pos = -1\n",
    "while True:\n",
    "    pos = str(html).find(\"post-media\", pos+1)\n",
    "    if pos == -1:\n",
    "        break\n",
    "    end = str(html).find(\"width=\\\"640\\\"\", pos)\n",
    "    sub_url = str(html)[pos+29:end-8]\n",
    "    if sub_url[:5]==\"https\":\n",
    "        sub_link = str(urq.urlopen(sub_url).read())\n",
    "        if sub_url.split(\"/\")[-1][:7]==\"faculty\":\n",
    "            print(sub_url.split(\"/\")[-1])\n",
    "            sub_pos = -1\n",
    "            while True:\n",
    "                sub_pos = str(sub_link).find(\"<strong>Tel:</strong>\", sub_pos+1)\n",
    "                sub_end = str(sub_link).find(\"<br />\", sub_pos)\n",
    "                fac_tel = str(sub_link)[sub_pos+21:sub_end]\n",
    "                fac_tel = fac_tel.replace(\"&#8211;\",\"-\")\n",
    "                if fac_tel.strip()[0] == '+':\n",
    "                    print(fac_tel.strip() + \"\\n\")\n",
    "                elif fac_tel.startswith('</span>'):\n",
    "                    print(fac_tel.strip()[8:] + \"\\n\")\n",
    "                elif fac_tel.find(\"a0\") > 0:\n",
    "                    print(fac_tel.strip().split(\"a0\")[-1] + \"\\n\")\n",
    "                break\n",
    "                if sub_pos == -1:\n",
    "                    break    "
   ]
  },
  {
   "cell_type": "markdown",
   "metadata": {},
   "source": [
    "# Extra score (1%)\n",
    "\n",
    "Current Faculty Members and Retired Faculty Members\n",
    "\n",
    "from https://www.cp.eng.chula.ac.th/en/about/faculty/\n",
    "\n",
    "*** Crawl only active members that have image ***\n",
    "\n",
    "<img src=\"source/crawl_fac_member.png\">"
   ]
  },
  {
   "cell_type": "code",
   "execution_count": 6,
   "metadata": {},
   "outputs": [
    {
     "name": "stdout",
     "output_type": "stream",
     "text": [
      "Current Faculty Members\n",
      "\n",
      "Prof.Dr. BOONSERM KIJSIRIKUL\n",
      "Prof.Dr. PRABHAS CHONGSTITVATANA\n",
      "Assc.Prof. Dr. ATIWONG SUCHATO\n",
      "Assc.Prof. Dr. KULTIDA ROJVIBOONCHAI\n",
      "Assc.Prof. Dr. PORNSIRI MUENCHAISRI\n",
      "Assc.Prof. Dr. SOMCHAI PRASITJUTRAKUL\n",
      "Assc.Prof. Dr. TARATIP SUWANNASART\n",
      "Assc.Prof. Dr. TWITTIE SENIVONGSE\n",
      "Assc.Prof. Dr. WANCHAI RIVEPIBOON\n",
      "Assc.Prof. Dr. WIWAT VATANAWOOD\n",
      "Assc.Prof. Dr. YACHAI LIMPIYAKORN\n",
      "Assc.Prof. NONGLUK COVAVISARUCH\n",
      "Asst.Prof. Dr. ARTHIT THONGTAK\n",
      "Asst.Prof. Dr. ATHASIT SURARERKS\n",
      "Asst.Prof. Dr. ATTAWITH SUDSANG\n",
      "Assc.Prof. Dr. CHOTIRAT RATANAMAHATANA\n",
      "Asst.Prof. Dr. KRERK PIROMSOPA\n",
      "Asst.Prof. Dr. NATAWUT NUPAIROJ\n",
      "Asst. Prof. Dr. NATTEE NIPARNAN\n",
      "Asst. Prof. Dr. NUTTAPONG CHENTANEZ\n",
      "Asst. Prof. Dr. PIZZANU KANONGCHAIYOS\n",
      "Asst.Prof. Dr. PROADPRAN PUNYABUKKANA\n",
      "Asst.Prof. Dr. SETHA PAN-NGUM\n",
      "Asst.Prof. Dr. SUEBSKUL PHIPHOBMONGKOL\n",
      "Asst.Prof. Dr. SUKREE SINTHUPINYO\n",
      "Asst.Prof. Dr. THANARAT CHALIDABHONGSE\n",
      "Asst.Prof. Dr. VEERA MUANGSIN\n",
      "Asst.Prof. Dr. VISHNU KOTRAJARAS\n",
      "Asst.Prof. BOONCHAI SOWANWANICHAKUL\n",
      "Asst.Prof. NAKORNTHIP PROMPOON\n",
      "Dr. CHAIRAT PHONGPHANPHANEE\n",
      "Dr. Duangdao Wichadakul\n",
      "Dr. Ekapol Chuangsuwanich\n",
      "Dr. Kunwadee Sripanidkulchai\n",
      "Asst. Prof. Dr. PEERAPON VATEEKUL\n",
      "Dr. Pitchaya Sitthi-amorn\n",
      "CHATE PATANOTHAI\n",
      "THONGCHAI ROJAKANGSADAN\n",
      "\n",
      "Retired Faculty Members\n",
      "\n",
      "Assc.Prof. Dr. SARTID VONGPRADHIP\n",
      "Assc.Prof. MANDHANA PRAKANSAMUT\n",
      "Asst.Prof. Korbkul Tejavanija\n",
      "Asst.Prof. THANAWAN CHANTARATANAPIBUL\n",
      "Dr. YUNYONG TENG-AMNUAY\n"
     ]
    }
   ],
   "source": [
    "# ---- TO DO 4 : Code Here ----\n",
    "\n",
    "url = 'https://www.cp.eng.chula.ac.th/en/about/faculty/'\n",
    "\n",
    "html = str(urq.urlopen(url).read())\n",
    "\n",
    "cp_lecturer = []\n",
    "pos = -1\n",
    "end = -1\n",
    "print(\"Current Faculty Members\\n\")\n",
    "while True:\n",
    "    pos = str(html).find(\"<a href=\\\"/en/about/faculty/\", pos+1)\n",
    "    end = str(html).find(\"</a>\", pos)\n",
    "    lecturer = str(html)[pos:end].split(\"\\\\\")[-1].split(\"n<p>\")[-1].strip()\n",
    "    print(lecturer)\n",
    "    if lecturer == 'THONGCHAI ROJAKANGSADAN':\n",
    "        print(\"\\nRetired Faculty Members\\n\")\n",
    "    cp_lecturer.append(str(html)[pos+30:end])\n",
    "    \n",
    "    if pos == -1 or lecturer=='Dr. YUNYONG TENG-AMNUAY':\n",
    "        break"
   ]
  },
  {
   "cell_type": "code",
   "execution_count": null,
   "metadata": {},
   "outputs": [],
   "source": []
  }
 ],
 "metadata": {
  "kernelspec": {
   "display_name": "Python 3",
   "language": "python",
   "name": "python3"
  },
  "language_info": {
   "codemirror_mode": {
    "name": "ipython",
    "version": 3
   },
   "file_extension": ".py",
   "mimetype": "text/x-python",
   "name": "python",
   "nbconvert_exporter": "python",
   "pygments_lexer": "ipython3",
   "version": "3.6.2"
  }
 },
 "nbformat": 4,
 "nbformat_minor": 2
}
